{
 "cells": [
  {
   "cell_type": "markdown",
   "metadata": {},
   "source": [
    "# Summary"
   ]
  },
  {
   "cell_type": "code",
   "execution_count": 1,
   "metadata": {},
   "outputs": [],
   "source": [
    "import os"
   ]
  },
  {
   "cell_type": "markdown",
   "metadata": {},
   "source": [
    "### Read + Write into file"
   ]
  },
  {
   "cell_type": "code",
   "execution_count": 2,
   "metadata": {},
   "outputs": [
    {
     "name": "stdout",
     "output_type": "stream",
     "text": [
      "Jackson:21222221222\n",
      "\n",
      "Thompson\t: 2122222222\n"
     ]
    }
   ],
   "source": [
    "file = open(\"name_of_file.txt\",\"w\") #w = write, r = read, w creates a file if not created already\n",
    "\n",
    "with open(\"name_of_file.txt\", \"a\") as f:\n",
    "        f.write(\"\\nThompson\\t: 2122222222\") #writing into last element of txt\n",
    "\n",
    "with open(\"name_of_file.txt\", \"r+\") as f:\n",
    "        data1 = f.read()\n",
    "        f.seek(0)\n",
    "        f.write(\"Jackson:21222221222\\n\" + data1) #writing into first element of txt\n",
    "\n",
    "temp = open(\"name_of_file.txt\", \"r\")\n",
    "#print(temp.readline()) #basically reads a line\n",
    "#print(temp.readline()) #probably won't be using this method\n",
    "temp.seek(0) #go to first element\n",
    "temp.tell() #telling where byte of 1st element is\n",
    "print(temp.read()) #whatever is read, print out \n",
    "temp.close() #close after opening for memory management\n"
   ]
  },
  {
   "cell_type": "code",
   "execution_count": 3,
   "metadata": {},
   "outputs": [],
   "source": [
    "i = 0\n",
    "f = open('test.txt','w')\n",
    "while(i < 5):\n",
    "    print(i, file=f, flush=False) #with flush = false, need .close() statement to see things written\n",
    "    i += 1\n",
    "#f.close()"
   ]
  },
  {
   "cell_type": "code",
   "execution_count": 4,
   "metadata": {},
   "outputs": [],
   "source": [
    "i = 0\n",
    "f = open('test2.txt','w')\n",
    "while(i < 5):\n",
    "    print(i, file=f, flush=True) #with flush = true, dont need .close to see things written\n",
    "    i += 1\n",
    "#f.close()"
   ]
  },
  {
   "cell_type": "markdown",
   "metadata": {},
   "source": [
    "### String methods"
   ]
  },
  {
   "cell_type": "code",
   "execution_count": 5,
   "metadata": {},
   "outputs": [
    {
     "name": "stdout",
     "output_type": "stream",
     "text": [
      "g-f-g\n",
      "g-f-g@"
     ]
    }
   ],
   "source": [
    "print('g','f','g', sep =\"-\") #seperate each string by -, doesn't work with \n",
    "print('g','f','g', sep =\"-\", end='@') #just ends print statement with @"
   ]
  },
  {
   "cell_type": "code",
   "execution_count": 6,
   "metadata": {},
   "outputs": [
    {
     "name": "stdout",
     "output_type": "stream",
     "text": [
      "TESTTEST\n",
      "EESEEESE\n"
     ]
    }
   ],
   "source": [
    "string = \"TEST TEST\"\n",
    "#.replace(x,y), x = thing to be replaced, y = what to replace with \n",
    "string = string.replace(\" \", \"\")\n",
    "print(string)\n",
    "string = string.replace(\"T\", \"E\")\n",
    "print(string)"
   ]
  },
  {
   "cell_type": "code",
   "execution_count": 7,
   "metadata": {},
   "outputs": [
    {
     "name": "stdout",
     "output_type": "stream",
     "text": [
      "E#E#S#E#E#E#S#E\n",
      "E\n",
      "E\n",
      "S\n",
      "E\n",
      "E\n",
      "E\n",
      "S\n",
      "E\n",
      "E\n",
      "\n",
      "E\n",
      "\n",
      "S\n",
      "\n",
      "E\n",
      "\n",
      "E\n",
      "\n",
      "E\n",
      "\n",
      "S\n",
      "\n",
      "E\n"
     ]
    }
   ],
   "source": [
    "#String -> list\n",
    "g = list(string)\n",
    "#Done so elements more easy to access\n",
    "x = \"#\".join(g)\n",
    "print(x)\n",
    "# .join only works with lists/tuples, won't work with string \n",
    "x = \"\\n\".join(g)\n",
    "print(x)\n",
    "x = \"\\n\\n\".join(g)\n",
    "print(x)"
   ]
  }
 ],
 "metadata": {
  "kernelspec": {
   "display_name": "Python 3.7.3 64-bit",
   "language": "python",
   "name": "python37364bit8a7367d3e0d84b389ff84d4d70028bdf"
  },
  "language_info": {
   "codemirror_mode": {
    "name": "ipython",
    "version": 3
   },
   "file_extension": ".py",
   "mimetype": "text/x-python",
   "name": "python",
   "nbconvert_exporter": "python",
   "pygments_lexer": "ipython3",
   "version": "3.7.3"
  }
 },
 "nbformat": 4,
 "nbformat_minor": 2
}
