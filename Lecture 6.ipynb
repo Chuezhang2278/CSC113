{
 "cells": [
  {
   "cell_type": "markdown",
   "metadata": {},
   "source": [
    "## Summary "
   ]
  },
  {
   "cell_type": "code",
   "execution_count": 34,
   "metadata": {},
   "outputs": [
    {
     "name": "stdout",
     "output_type": "stream",
     "text": [
      "s\n"
     ]
    }
   ],
   "source": [
    "x = \"tests\"\n",
    "print(x[-1])\n",
    "# ... can be positive or negative index"
   ]
  },
  {
   "cell_type": "code",
   "execution_count": 35,
   "metadata": {},
   "outputs": [
    {
     "name": "stdout",
     "output_type": "stream",
     "text": [
      "te\n"
     ]
    }
   ],
   "source": [
    "print(x[:2]) # Print until a certin numbered index reached"
   ]
  },
  {
   "cell_type": "code",
   "execution_count": 36,
   "metadata": {},
   "outputs": [
    {
     "name": "stdout",
     "output_type": "stream",
     "text": [
      "sts\n"
     ]
    }
   ],
   "source": [
    "print(x[2:]) #printing starting from a certain numbered index"
   ]
  },
  {
   "cell_type": "code",
   "execution_count": 38,
   "metadata": {},
   "outputs": [
    {
     "name": "stdout",
     "output_type": "stream",
     "text": [
      "es\n"
     ]
    }
   ],
   "source": [
    "print(x[1:3]) # printing given a range"
   ]
  },
  {
   "cell_type": "code",
   "execution_count": 42,
   "metadata": {},
   "outputs": [
    {
     "name": "stdout",
     "output_type": "stream",
     "text": [
      "tss\n"
     ]
    }
   ],
   "source": [
    "print(x[0:5:2]) # printing given a range with increment of 2"
   ]
  },
  {
   "cell_type": "code",
   "execution_count": 44,
   "metadata": {},
   "outputs": [
    {
     "name": "stdout",
     "output_type": "stream",
     "text": [
      "stset\n"
     ]
    }
   ],
   "source": [
    "print(x[::-1]) #reverse str"
   ]
  },
  {
   "cell_type": "code",
   "execution_count": 45,
   "metadata": {},
   "outputs": [
    {
     "name": "stdout",
     "output_type": "stream",
     "text": [
      "teststeststests\n"
     ]
    }
   ],
   "source": [
    "print(x*3) # you can multiply strings"
   ]
  },
  {
   "cell_type": "code",
   "execution_count": 70,
   "metadata": {},
   "outputs": [
    {
     "name": "stdout",
     "output_type": "stream",
     "text": [
      "<class 'str'>\n"
     ]
    }
   ],
   "source": [
    "print(type(x)) #data type check"
   ]
  },
  {
   "cell_type": "code",
   "execution_count": 51,
   "metadata": {},
   "outputs": [
    {
     "name": "stdout",
     "output_type": "stream",
     "text": [
      "t\n"
     ]
    }
   ],
   "source": [
    "# boolean logic with strings\n",
    "\n",
    "if('t' in x):\n",
    "    print(\"t\")\n",
    "\n",
    "if('z' in x):\n",
    "    print(\"z\")"
   ]
  },
  {
   "cell_type": "code",
   "execution_count": 53,
   "metadata": {},
   "outputs": [
    {
     "name": "stdout",
     "output_type": "stream",
     "text": [
      "TESTS\n"
     ]
    }
   ],
   "source": [
    "print(x.upper()) #upper case"
   ]
  },
  {
   "cell_type": "code",
   "execution_count": 69,
   "metadata": {},
   "outputs": [
    {
     "name": "stdout",
     "output_type": "stream",
     "text": [
      "tests\n",
      "2\n",
      "4\n"
     ]
    }
   ],
   "source": [
    "print(x) # find element, where it is found first\n",
    "print(x.find('s'))\n",
    "\n",
    "print(x.find('s', 4)) # find element after 4"
   ]
  },
  {
   "cell_type": "markdown",
   "metadata": {},
   "source": [
    "### Sample exam question"
   ]
  },
  {
   "cell_type": "code",
   "execution_count": 30,
   "metadata": {},
   "outputs": [
    {
     "name": "stdout",
     "output_type": "stream",
     "text": [
      "\n",
      "Greetings\n",
      "Greeting\n",
      "Greetin\n",
      "Greeti\n",
      "Greet\n",
      "Gree\n",
      "Gre\n",
      "Gr\n",
      "G\n"
     ]
    }
   ],
   "source": [
    "x = \"Greetings\"\n",
    "for i in range(len(x)):\n",
    "    if i == len(x)-(len(x)-1):\n",
    "        print(x)\n",
    "    print(x[:-i])"
   ]
  },
  {
   "cell_type": "code",
   "execution_count": 31,
   "metadata": {},
   "outputs": [
    {
     "name": "stdout",
     "output_type": "stream",
     "text": [
      "\n",
      "Greetings\n",
      "Greeting\n",
      "Greetin\n",
      "Greeti\n",
      "Greet\n",
      "Gree\n",
      "Gre\n"
     ]
    }
   ],
   "source": [
    "x = \"Greetings\"\n",
    "for i in range(len(x)-2):\n",
    "    if i == len(x)-(len(x)-1):\n",
    "        print(x)\n",
    "    print(x[:-i])"
   ]
  }
 ],
 "metadata": {
  "kernelspec": {
   "display_name": "Python 3.7.3 64-bit",
   "language": "python",
   "name": "python37364bit8a7367d3e0d84b389ff84d4d70028bdf"
  },
  "language_info": {
   "codemirror_mode": {
    "name": "ipython",
    "version": 3
   },
   "file_extension": ".py",
   "mimetype": "text/x-python",
   "name": "python",
   "nbconvert_exporter": "python",
   "pygments_lexer": "ipython3",
   "version": "3.7.3"
  }
 },
 "nbformat": 4,
 "nbformat_minor": 2
}
