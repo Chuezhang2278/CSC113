{
 "cells": [
  {
   "cell_type": "markdown",
   "metadata": {},
   "source": [
    "# Summary"
   ]
  },
  {
   "cell_type": "markdown",
   "metadata": {},
   "source": [
    "## List"
   ]
  },
  {
   "cell_type": "code",
   "execution_count": 1,
   "metadata": {},
   "outputs": [
    {
     "name": "stdout",
     "output_type": "stream",
     "text": [
      "[False, True]\n",
      "[1, 'b', '6.9']\n"
     ]
    }
   ],
   "source": [
    "A = [1,'b','6.9', False, True]\n",
    "print(A[(len(A)-2):])\n",
    "print(A[:(len(A)-2)])\n",
    "\n",
    "# You can put anything into a list and print it out\n",
    "# A[:x] is printing foward from xth indice [not inclusive]\n",
    "# A[x:] is printing backward from xth indice [inclusive]"
   ]
  },
  {
   "cell_type": "code",
   "execution_count": 2,
   "metadata": {},
   "outputs": [
    {
     "name": "stdout",
     "output_type": "stream",
     "text": [
      "12 3 4 \n",
      " [3, 4, 12]\n"
     ]
    }
   ],
   "source": [
    "A = [12,3,4]\n",
    "for i in A:\n",
    "    print(i, end = \" \")\n",
    "\n",
    "A.sort()\n",
    "print(\"\\n\", A)"
   ]
  },
  {
   "cell_type": "code",
   "execution_count": 3,
   "metadata": {},
   "outputs": [
    {
     "name": "stdout",
     "output_type": "stream",
     "text": [
      "['test', 'message', 'for', 'split']\n",
      "['', 'es', ' message for spli', '']\n",
      "['te', 't me', '', 'age for ', 'plit']\n"
     ]
    }
   ],
   "source": [
    "A = 'test message for split'\n",
    "print(A.split())\n",
    "print(A.split(\"t\"))\n",
    "print(A.split(\"s\"))"
   ]
  },
  {
   "cell_type": "code",
   "execution_count": 4,
   "metadata": {},
   "outputs": [
    {
     "name": "stdout",
     "output_type": "stream",
     "text": [
      "[(1, 1), (1, 2), (1, 3), (2, 1), (2, 2), (2, 3), (3, 1), (3, 2), (3, 3)]\n",
      "[2, 3, 4, 3, 4, 5, 4, 5, 6]\n"
     ]
    }
   ],
   "source": [
    "#multiple for logic\n",
    "print([(x,y) for x in range(1,4) for y in range(1,4)])\n",
    "print([(x+y) for x in range(1,4) for y in range(1,4)])   "
   ]
  },
  {
   "cell_type": "markdown",
   "metadata": {},
   "source": [
    "### list logic"
   ]
  },
  {
   "cell_type": "code",
   "execution_count": 5,
   "metadata": {},
   "outputs": [
    {
     "name": "stdout",
     "output_type": "stream",
     "text": [
      "[1, 2, 3]\n",
      "'a' remove value 1 [2, 3]\n",
      "b [2, 3]\n",
      "a [3]\n",
      "'b' appending array 'a' [2, 3, [3]]\n",
      "'a' appends value 2 [2, 3, [3, 2]]\n"
     ]
    }
   ],
   "source": [
    "a = [1,2,3]\n",
    "b = a\n",
    "print(b)\n",
    "a.remove(1)\n",
    "print(\"'a' remove value 1\", b)\n",
    "\n",
    "# b = a means b points to the array of a, so whatever happens to a happens to b\n",
    "# to prevent this pointer logic\n",
    "\n",
    "b = a[:]\n",
    "a.remove(2)\n",
    "print(\"b\",b)\n",
    "print(\"a\",a)\n",
    "\n",
    "# keep in mind pointer logic prevails even when appending\n",
    "b.append(a)\n",
    "print(\"'b' appending array 'a'\", b)\n",
    "a.append(2)\n",
    "print(\"'a' appends value 2\", b)"
   ]
  },
  {
   "cell_type": "markdown",
   "metadata": {},
   "source": [
    "### Exercise"
   ]
  },
  {
   "cell_type": "code",
   "execution_count": 6,
   "metadata": {},
   "outputs": [
    {
     "name": "stdout",
     "output_type": "stream",
     "text": [
      "['sihT', 'si', 'a', 'tset']\n"
     ]
    }
   ],
   "source": [
    "a = \"This is a test\"\n",
    "a = (a[::-1])\n",
    "a = a.split()\n",
    "a = (a[::-1])\n",
    "print(a)"
   ]
  },
  {
   "cell_type": "markdown",
   "metadata": {},
   "source": [
    "### Dicts"
   ]
  },
  {
   "cell_type": "code",
   "execution_count": 19,
   "metadata": {},
   "outputs": [
    {
     "name": "stdout",
     "output_type": "stream",
     "text": [
      "{'1': 1, '2': 1}\n",
      "1\n",
      "{'1': 3, '2': 1, 'test': 3, 'test2': 1}\n"
     ]
    }
   ],
   "source": [
    "# basically hash map\n",
    "Dict = {\"1\": 1,\n",
    "        \"2\": 1}\n",
    "print(Dict)\n",
    "#checking for element in dic\n",
    "x = Dict.get(\"1\",0)\n",
    "print(x)\n",
    "i = 0\n",
    "\n",
    "names = ['test','test2','test','test','1','1']\n",
    "for name in names:\n",
    "    Dict[name] = Dict.get(name,0) + 1\n",
    "\n",
    "print(Dict)"
   ]
  },
  {
   "cell_type": "code",
   "execution_count": 8,
   "metadata": {},
   "outputs": [
    {
     "data": {
      "text/plain": [
       "['New York', 'Teacher', 35]"
      ]
     },
     "execution_count": 8,
     "metadata": {},
     "output_type": "execute_result"
    }
   ],
   "source": [
    "x = {\"John Doe\":[\"New York\",\"Teacher\",34],\n",
    "     \"Join Doe\":[\"New York\",\"Teacher\",35],\n",
    "     \"Jon Doe\":[\"New York\",\"Teacher\",36]}\n",
    "x.get(\"Join Doe\")"
   ]
  },
  {
   "cell_type": "code",
   "execution_count": 9,
   "metadata": {},
   "outputs": [
    {
     "data": {
      "text/plain": [
       "{'State': 'New York', 'Profession': 'Teacher', 'Age': 34}"
      ]
     },
     "execution_count": 9,
     "metadata": {},
     "output_type": "execute_result"
    }
   ],
   "source": [
    "x = {\"John Doe\":{\"State\":\"New York\",\"Profession\":\"Teacher\",\"Age\":34},\n",
    "     \"Join Doe\":{\"State\":\"New York\",\"Profession\":\"Teacher\",\"Age\":35},\n",
    "     \"Jon Doe\":{\"State\":\"New York\",\"Profession\":\"Teacher\",\"Age\":36}}\n",
    "\n",
    "x.get(\"John Doe\")"
   ]
  }
 ],
 "metadata": {
  "kernelspec": {
   "display_name": "Python 3.7.3 64-bit",
   "language": "python",
   "name": "python37364bit8a7367d3e0d84b389ff84d4d70028bdf"
  },
  "language_info": {
   "codemirror_mode": {
    "name": "ipython",
    "version": 3
   },
   "file_extension": ".py",
   "mimetype": "text/x-python",
   "name": "python",
   "nbconvert_exporter": "python",
   "pygments_lexer": "ipython3",
   "version": "3.7.3"
  }
 },
 "nbformat": 4,
 "nbformat_minor": 2
}
